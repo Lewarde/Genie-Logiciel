{
 "cells": [
  {
   "cell_type": "markdown",
   "id": "a2ad5c15-68a8-4ae7-b10f-b596be2132fc",
   "metadata": {},
   "source": [
    "## 🔷 Le diagramme d’activités\n",
    "\n",
    "Le **diagramme d’activités** sert à représenter **le déroulement logique d’un processus ou d’un scénario**.  \n",
    "Il permet de répondre à la question :\n",
    "\n",
    " *Que se passe-t-il du début à la fin, et dans quel ordre ?*\n",
    "\n",
    "C’est une **vision globale et visuelle** d’un ensemble d’actions, très proche d’un **organigramme** ou d’un **diagramme de flux**, mais spécifiquement adapté à la modélisation logicielle.\n",
    "\n",
    "---\n",
    "\n",
    "###  Comment ça se lit ?\n",
    "\n",
    "Le diagramme commence toujours par un **point de départ** : ●  \n",
    "Ensuite, on suit les **flèches** qui relient différentes **activités** (représentées par des **rectangles arrondis** ou des **barres d'action**).\n",
    "\n",
    "On peut y trouver :\n",
    "\n",
    "-  **Des décisions** (losanges) : elles représentent un choix à faire, avec plusieurs chemins possibles selon des conditions.\n",
    "\n",
    "-  **Des boucles** : certaines étapes peuvent se répéter tant qu’une condition est vraie.\n",
    "\n",
    "-  **Un point de fin** : souvent représenté par un **rond noir entouré d’un cercle**.\n",
    "\n",
    " Le diagramme se lit **de haut en bas** (parfois aussi de gauche à droite), en suivant le **flux logique**.\n",
    "\n",
    "---\n",
    "\n",
    "###  Pourquoi c’est utile dans un projet ?\n",
    "\n",
    "Le diagramme d’activités est très utile pour :\n",
    "\n",
    "-  **Comprendre et structurer un processus** : qu’il soit côté utilisateur ou côté système.\n",
    "-  **Visualiser tous les scénarios possibles**, y compris les cas particuliers, erreurs ou alternatives.\n",
    "-  **Modéliser des algorithmes** de manière simple et lisible.\n",
    "-  **Préparer la conception d’interfaces** ou d’étapes utilisateur.\n",
    "-  **Faciliter le travail en équipe**, en permettant une discussion claire sur le fonctionnement attendu.\n",
    "\n",
    "---\n",
    "\n",
    "###  En résumé\n",
    "\n",
    "C’est un excellent outil pour :\n",
    "\n",
    "- Décortiquer un scénario complexe,\n",
    "- Anticiper les différents chemins qu’une action peut prendre,\n",
    "- Et organiser les étapes **de manière logique, visuelle et accessible à tous** (développeurs, chefs de projet, clients…).\n"
   ]
  },
  {
   "cell_type": "code",
   "execution_count": null,
   "id": "90942e5a-a881-4b4d-a99f-7d81179fd403",
   "metadata": {},
   "outputs": [],
   "source": []
  }
 ],
 "metadata": {
  "kernelspec": {
   "display_name": "Python 3 (ipykernel)",
   "language": "python",
   "name": "python3"
  },
  "language_info": {
   "codemirror_mode": {
    "name": "ipython",
    "version": 3
   },
   "file_extension": ".py",
   "mimetype": "text/x-python",
   "name": "python",
   "nbconvert_exporter": "python",
   "pygments_lexer": "ipython3",
   "version": "3.12.0"
  }
 },
 "nbformat": 4,
 "nbformat_minor": 5
}
