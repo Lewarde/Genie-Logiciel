{
 "cells": [
  {
   "cell_type": "markdown",
   "id": "0eb1958e-8ca7-4115-a01a-1dc422aa93f9",
   "metadata": {},
   "source": [
    "## 🔷 Le diagramme de cas d’utilisation\n",
    "\n",
    "Le **diagramme de cas d’utilisation** est un outil de modélisation qui permet de **décrire ce que fait un logiciel du point de vue de l’utilisateur**.  \n",
    "Avant même de penser au code ou aux détails techniques, il aide à répondre à une question essentielle :  \n",
    " *Qui fait quoi avec l’application ?*\n",
    "\n",
    "C’est une **représentation simple et visuelle** des interactions entre les **acteurs** (utilisateurs ou systèmes externes) et le **logiciel**.\n",
    "\n",
    "---\n",
    "\n",
    "###  Comment ça se lit ?\n",
    "\n",
    "Le diagramme comprend **deux éléments principaux** :\n",
    "\n",
    "- ** Les acteurs** : ce sont les utilisateurs (ou autres systèmes) qui interagissent avec le logiciel.  \n",
    "  Ils sont représentés par des petits bonhommes à l’extérieur du système.\n",
    "\n",
    "- ** Les cas d’utilisation** : ce sont les **fonctions principales** accessibles à l’utilisateur.  \n",
    "  Chacune est représentée par une **ellipse**, généralement nommée avec un **verbe à l’infinitif** (ex. : *Créer une sauvegarde*).\n",
    "\n",
    "Un **trait simple** relie un acteur aux cas d’utilisation qu’il peut réaliser.\n",
    "\n",
    "Il existe aussi des **liens spécifiques** entre les cas d’utilisation :\n",
    "\n",
    "- **<<include>>** : une action **inclut obligatoirement** une autre (fonctionnalité indispensable).\n",
    "- **<<extend>>** : une action **peut en déclencher une autre** si certaines conditions sont remplies (fonctionnalité optionnelle).\n",
    "\n",
    "---\n",
    "\n",
    "###  Pourquoi c’est important dans un projet ?\n",
    "\n",
    "Le diagramme de cas d’utilisation est un **point de départ essentiel** dans la conception d’un logiciel.  \n",
    "Il permet de :\n",
    "\n",
    "- **Clarifier les rôles** : qui utilise le système, et pour faire quoi ?\n",
    "- **Identifier tous les besoins fonctionnels**.\n",
    "- **Éviter les oublis** grâce à une vision d’ensemble visuelle.\n",
    "- **Faciliter la communication** avec les non-techniciens (clients, encadrants…).\n",
    "\n",
    "---\n",
    "\n",
    "###  En résumé\n",
    "\n",
    "C’est un outil **simple, visuel et très efficace** pour :\n",
    "- Comprendre le périmètre fonctionnel du projet,\n",
    "- Définir les attentes des utilisateurs,\n",
    "- Et **poser des bases solides avant de passer au développement**.\n"
   ]
  },
  {
   "cell_type": "code",
   "execution_count": null,
   "id": "22eff10d-a963-4d0b-9c03-f0b6713cefb1",
   "metadata": {},
   "outputs": [],
   "source": []
  }
 ],
 "metadata": {
  "kernelspec": {
   "display_name": "Python 3 (ipykernel)",
   "language": "python",
   "name": "python3"
  },
  "language_info": {
   "codemirror_mode": {
    "name": "ipython",
    "version": 3
   },
   "file_extension": ".py",
   "mimetype": "text/x-python",
   "name": "python",
   "nbconvert_exporter": "python",
   "pygments_lexer": "ipython3",
   "version": "3.12.0"
  }
 },
 "nbformat": 4,
 "nbformat_minor": 5
}
