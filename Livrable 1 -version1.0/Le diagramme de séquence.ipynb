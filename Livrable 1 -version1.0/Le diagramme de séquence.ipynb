{
 "cells": [
  {
   "cell_type": "markdown",
   "id": "f78e4087-8cf1-49e7-a3ff-d5854313d45c",
   "metadata": {},
   "source": [
    "## 🔷 Le diagramme de séquence\n",
    "\n",
    "Le **diagramme de séquence** sert à **illustrer le déroulement précis d’une action dans un logiciel**.  \n",
    "Il permet de répondre à la question :\n",
    "\n",
    " *Qui appelle qui, dans quel ordre, pour réaliser une action donnée ?*\n",
    "\n",
    "C’est un outil puissant pour **analyser ou expliquer un scénario d’utilisation**, comme par exemple :  \n",
    "*Que se passe-t-il exactement quand l’utilisateur lance une sauvegarde ?*\n",
    "\n",
    "---\n",
    "\n",
    "###  Comment ça se lit ?\n",
    "\n",
    "Le diagramme se lit **de haut en bas**, comme une **chronologie** :\n",
    "\n",
    "- En haut, on trouve les **acteurs** ou **objets** qui interviennent dans l’action :  \n",
    "  *(ex. : utilisateur, interface graphique, contrôleur, gestionnaire de fichiers, etc.)*\n",
    "\n",
    "- Chaque objet est représenté par une **ligne de vie** (ligne verticale), qui indique sa présence tout au long du scénario.\n",
    "\n",
    "- Les **flèches horizontales** symbolisent les **messages échangés** :\n",
    "  - Appels de méthodes\n",
    "  - Réponses ou retours de données\n",
    "  - Échanges entre composants\n",
    "\n",
    "- On peut aussi représenter :\n",
    "  - Des **boucles** (répétition d’une action)\n",
    "  - Des **conditions** (actions effectuées uniquement si une condition est remplie)\n",
    "\n",
    " Ce diagramme **n’entre pas dans le détail du code**, mais permet de comprendre **le comportement dynamique** du système.\n",
    "\n",
    "---\n",
    "\n",
    "###  Pourquoi c’est important dans un projet ?\n",
    "\n",
    "Le diagramme de séquence est très utile pour :\n",
    "\n",
    "-  **Comprendre le fonctionnement interne** d’une fonctionnalité précise.\n",
    "-  **Vérifier la cohérence des échanges** entre composants.\n",
    "-  **Repérer les responsabilités mal réparties** (ex. : un objet qui fait trop de choses).\n",
    "-  **Guider les développeurs** pendant l’implémentation.\n",
    "-  **Communiquer facilement** sur un scénario complexe, que l’auditoire soit technique ou non.\n",
    "\n",
    "---\n",
    "\n",
    "###  En résumé\n",
    "\n",
    "C’est un outil idéal pour :\n",
    "- Explorer un **scénario d’utilisation** de façon détaillée,\n",
    "- **Valider la logique d’exécution** du système,\n",
    "- Et **faciliter la communication et la collaboration** dans l’équipe projet.\n"
   ]
  },
  {
   "cell_type": "markdown",
   "id": "a11e85ee-59df-413d-ab01-88bcbe12da47",
   "metadata": {},
   "source": []
  }
 ],
 "metadata": {
  "kernelspec": {
   "display_name": "Python 3 (ipykernel)",
   "language": "python",
   "name": "python3"
  },
  "language_info": {
   "codemirror_mode": {
    "name": "ipython",
    "version": 3
   },
   "file_extension": ".py",
   "mimetype": "text/x-python",
   "name": "python",
   "nbconvert_exporter": "python",
   "pygments_lexer": "ipython3",
   "version": "3.12.0"
  }
 },
 "nbformat": 4,
 "nbformat_minor": 5
}
